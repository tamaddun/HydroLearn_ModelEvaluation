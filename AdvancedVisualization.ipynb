{
 "cells": [
  {
   "cell_type": "markdown",
   "id": "diverse-georgia",
   "metadata": {},
   "source": [
    "## Advanced Visualization"
   ]
  },
  {
   "cell_type": "code",
   "execution_count": null,
   "id": "protecting-communist",
   "metadata": {},
   "outputs": [],
   "source": [
    "# Let us load the data\n",
    "import pandas as pd\n",
    "data = pd.read_csv('data_obs_sims.csv')\n",
    "data.head()"
   ]
  },
  {
   "cell_type": "code",
   "execution_count": null,
   "id": "under-trade",
   "metadata": {},
   "outputs": [],
   "source": [
    "data.shape"
   ]
  },
  {
   "cell_type": "code",
   "execution_count": null,
   "id": "gorgeous-glass",
   "metadata": {},
   "outputs": [],
   "source": [
    "# Let us drop any NaNs in the data\n",
    "data.dropna(inplace=True)"
   ]
  },
  {
   "cell_type": "code",
   "execution_count": null,
   "id": "overall-passion",
   "metadata": {},
   "outputs": [],
   "source": [
    "# As an exercise, let us save the observation and simulations in separate dataframes\n",
    "# Separating them is not required - we are doing it for the sake of this exercise\n",
    "obs = pd.DataFrame(data['Obs'])\n",
    "sim = data.iloc[:,1:]"
   ]
  },
  {
   "cell_type": "code",
   "execution_count": null,
   "id": "hispanic-burlington",
   "metadata": {},
   "outputs": [],
   "source": [
    "import matplotlib.pyplot as plt\n",
    "%matplotlib inline\n",
    "# Uncomment the following line if seaborn is not already installed\n",
    "# !conda install --yes seaborn\n",
    "import seaborn as sns\n",
    "sns.set(color_codes=True)"
   ]
  },
  {
   "cell_type": "code",
   "execution_count": null,
   "id": "southeast-republic",
   "metadata": {},
   "outputs": [],
   "source": [
    "import warnings\n",
    "warnings.filterwarnings('ignore')"
   ]
  },
  {
   "cell_type": "code",
   "execution_count": null,
   "id": "speaking-approval",
   "metadata": {},
   "outputs": [],
   "source": [
    "plt.figure(figsize=(12,7))\n",
    "plt.subplot(211)\n",
    "sns.boxplot(data=obs,orient='h');\n",
    "plt.subplot(212)\n",
    "sns.distplot(obs,kde=True,bins=30);"
   ]
  },
  {
   "cell_type": "code",
   "execution_count": null,
   "id": "automated-connectivity",
   "metadata": {},
   "outputs": [],
   "source": [
    "import numpy as np\n",
    "# Let us create a function\n",
    "def histogram_boxplot(feature, figsize=(12,7), bins = None):\n",
    "    f2, (ax_box2, ax_hist2) = plt.subplots(nrows = 2, # Number of rows of the subplot grid = 2\n",
    "                                           sharex = True, # x-axis will be shared among all subplots\n",
    "                                           gridspec_kw = {\"height_ratios\": (.5, .5)}, \n",
    "                                           figsize = figsize \n",
    "                                           ) # creating the 2 subplots\n",
    "    sns.boxplot(feature, ax=ax_box2, showmeans=True) # boxplot will be created and a marker will indicate the mean value of the column\n",
    "    sns.distplot(feature, kde=False, ax=ax_hist2, bins=bins) if bins else sns.distplot(feature, kde=True, ax=ax_hist2) # For histogram\n",
    "    ax_hist2.axvline(np.mean(feature), linestyle='--') # Add mean to the histogram\n",
    "    ax_hist2.axvline(np.median(feature), linestyle='-') # Add median to the histogram"
   ]
  },
  {
   "cell_type": "code",
   "execution_count": null,
   "id": "cooked-huntington",
   "metadata": {},
   "outputs": [],
   "source": [
    "histogram_boxplot(obs['Obs'])"
   ]
  },
  {
   "cell_type": "code",
   "execution_count": null,
   "id": "decimal-faculty",
   "metadata": {},
   "outputs": [],
   "source": [
    "plt.figure(figsize=(15,7))\n",
    "sns.boxplot(data=sim, palette='viridis');"
   ]
  },
  {
   "cell_type": "code",
   "execution_count": null,
   "id": "molecular-infrared",
   "metadata": {},
   "outputs": [],
   "source": [
    "plt.figure(figsize=(12,7))\n",
    "sns.boxplot(data=sim[['Sim1','Sim2','Sim3','Sim4','Sim5']],palette='viridis');"
   ]
  },
  {
   "cell_type": "code",
   "execution_count": null,
   "id": "designing-address",
   "metadata": {},
   "outputs": [],
   "source": [
    "sim5 = sim[['Sim1','Sim2','Sim3','Sim4','Sim5']]\n",
    "plt.figure(figsize=(10,7))\n",
    "sns.heatmap(sim5.corr(),annot=True,cmap='viridis');"
   ]
  },
  {
   "cell_type": "code",
   "execution_count": null,
   "id": "centered-gibson",
   "metadata": {},
   "outputs": [],
   "source": [
    "sim3 = sim[['Sim1','Sim2','Sim3']]\n",
    "sns.pairplot(sim3);"
   ]
  },
  {
   "cell_type": "code",
   "execution_count": null,
   "id": "settled-angle",
   "metadata": {},
   "outputs": [],
   "source": [
    "from hydroeval import evaluator, nse\n",
    "my_nse = evaluator(nse, sim, obs, axis=0);my_nse = my_nse.T;"
   ]
  },
  {
   "cell_type": "code",
   "execution_count": null,
   "id": "current-interface",
   "metadata": {},
   "outputs": [],
   "source": [
    "my_nse = {'Simulation':['Sim1','Sim2','Sim3','Sim4','Sim5','Sim6','Sim7','Sim8','Sim9','Sim10',\n",
    "    'Sim11','Sim12','Sim13','Sim14','Sim15','Sim16','Sim17','Sim18','Sim19','Sim20'],'NSE':my_nse}\n",
    "my_nse = pd.DataFrame(data=my_nse)"
   ]
  },
  {
   "cell_type": "code",
   "execution_count": null,
   "id": "stuck-courtesy",
   "metadata": {},
   "outputs": [],
   "source": [
    "plt.figure(figsize=(12,7))\n",
    "sns.barplot(x='Simulation',y='NSE',data=my_nse,palette='viridis');"
   ]
  }
 ],
 "metadata": {
  "kernelspec": {
   "display_name": "Python 3 (ipykernel)",
   "language": "python",
   "name": "python3"
  },
  "language_info": {
   "codemirror_mode": {
    "name": "ipython",
    "version": 3
   },
   "file_extension": ".py",
   "mimetype": "text/x-python",
   "name": "python",
   "nbconvert_exporter": "python",
   "pygments_lexer": "ipython3",
   "version": "3.9.7"
  },
  "varInspector": {
   "cols": {
    "lenName": 16,
    "lenType": 16,
    "lenVar": 40
   },
   "kernels_config": {
    "python": {
     "delete_cmd_postfix": "",
     "delete_cmd_prefix": "del ",
     "library": "var_list.py",
     "varRefreshCmd": "print(var_dic_list())"
    },
    "r": {
     "delete_cmd_postfix": ") ",
     "delete_cmd_prefix": "rm(",
     "library": "var_list.r",
     "varRefreshCmd": "cat(var_dic_list()) "
    }
   },
   "types_to_exclude": [
    "module",
    "function",
    "builtin_function_or_method",
    "instance",
    "_Feature"
   ],
   "window_display": false
  }
 },
 "nbformat": 4,
 "nbformat_minor": 5
}
