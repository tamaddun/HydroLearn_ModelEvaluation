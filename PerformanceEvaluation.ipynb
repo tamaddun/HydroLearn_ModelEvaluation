{
 "cells": [
  {
   "cell_type": "markdown",
   "id": "emerging-today",
   "metadata": {},
   "source": [
    "## Model Performance Evaluation using hydroeval"
   ]
  },
  {
   "cell_type": "code",
   "execution_count": null,
   "id": "fc1c8a72",
   "metadata": {},
   "outputs": [],
   "source": [
    "# Let us install hydroeval\n",
    "!python -m pip install hydroeval"
   ]
  },
  {
   "cell_type": "code",
   "execution_count": null,
   "id": "904392a3",
   "metadata": {},
   "outputs": [],
   "source": [
    "# Let us import hydroeval and check the version\n",
    "import hydroeval\n",
    "print(hydroeval.__version__)"
   ]
  },
  {
   "cell_type": "code",
   "execution_count": null,
   "id": "gentle-whale",
   "metadata": {},
   "outputs": [],
   "source": [
    "# Let us load the data\n",
    "import pandas as pd\n",
    "data = pd.read_csv('data_obs_sims.csv')"
   ]
  },
  {
   "cell_type": "code",
   "execution_count": null,
   "id": "invalid-admission",
   "metadata": {},
   "outputs": [],
   "source": [
    "data.shape"
   ]
  },
  {
   "cell_type": "code",
   "execution_count": null,
   "id": "85489f53",
   "metadata": {},
   "outputs": [],
   "source": [
    "data.head()"
   ]
  },
  {
   "cell_type": "code",
   "execution_count": null,
   "id": "junior-actress",
   "metadata": {},
   "outputs": [],
   "source": [
    "# Let us drop any NaNs in the data\n",
    "data.dropna(inplace=True)"
   ]
  },
  {
   "cell_type": "code",
   "execution_count": null,
   "id": "specific-therapist",
   "metadata": {},
   "outputs": [],
   "source": [
    "# As an exercise, let us save the observation and simulations in separate dataframes\n",
    "# Separating them is not required - we are doing it for the sake of this exercise\n",
    "obs = pd.DataFrame(data['Obs'])\n",
    "sim = data.iloc[:,1:]"
   ]
  },
  {
   "cell_type": "code",
   "execution_count": null,
   "id": "horizontal-republic",
   "metadata": {},
   "outputs": [],
   "source": [
    "import matplotlib.pyplot as plt\n",
    "%matplotlib inline\n",
    "\n",
    "plt.figure(figsize=(15,5))\n",
    "\n",
    "# Let us visualize the observed flow\n",
    "plt.subplot(121); plt.grid(linestyle=':')\n",
    "plt.plot(obs['Obs'],'C0'); plt.title('Observed Flow')\n",
    "plt.xlabel('Number of Days'); plt.ylabel('Flow Values');\n",
    "\n",
    "# Let us visualize the first simulated flow\n",
    "plt.subplot(122); plt.grid(linestyle=':')\n",
    "plt.plot(sim['Sim1'],'C1'); plt.title('Simulated Flow')\n",
    "plt.xlabel('Number of Days'); plt.ylabel('Flow Values');"
   ]
  },
  {
   "cell_type": "code",
   "execution_count": null,
   "id": "broken-addition",
   "metadata": {},
   "outputs": [],
   "source": [
    "# Let us plot the observed flow and one of the simulated flows on the same axis\n",
    "plt.figure(figsize=(12,7)); plt.grid(linestyle=':')\n",
    "plt.plot(obs['Obs']); plt.plot(sim['Sim1']);\n",
    "plt.xlabel('Number of Days'); plt.ylabel('Flow Values');\n",
    "plt.legend(['Observed Flow','Simulated Flow']);"
   ]
  },
  {
   "cell_type": "code",
   "execution_count": null,
   "id": "falling-caution",
   "metadata": {},
   "outputs": [],
   "source": [
    "from hydroeval import evaluator, nse\n",
    "my_nse = evaluator(nse, sim, obs, axis=0)\n",
    "print(my_nse.shape);print()\n",
    "print(my_nse)"
   ]
  },
  {
   "cell_type": "code",
   "execution_count": null,
   "id": "funky-prescription",
   "metadata": {},
   "outputs": [],
   "source": [
    "from hydroeval import evaluator, pbias\n",
    "my_pbias = evaluator(pbias, sim, obs, axis=0)\n",
    "print(my_pbias.shape);print()\n",
    "print(my_pbias)"
   ]
  },
  {
   "cell_type": "code",
   "execution_count": null,
   "id": "stuffed-closure",
   "metadata": {},
   "outputs": [],
   "source": [
    "from hydroeval import evaluator, kge\n",
    "my_kge = evaluator(kge, sim, obs, axis=0, transform='inv')\n",
    "print(my_kge.shape); print()\n",
    "print(my_kge.T)"
   ]
  }
 ],
 "metadata": {
  "kernelspec": {
   "display_name": "Python 3 (ipykernel)",
   "language": "python",
   "name": "python3"
  },
  "language_info": {
   "codemirror_mode": {
    "name": "ipython",
    "version": 3
   },
   "file_extension": ".py",
   "mimetype": "text/x-python",
   "name": "python",
   "nbconvert_exporter": "python",
   "pygments_lexer": "ipython3",
   "version": "3.9.7"
  },
  "varInspector": {
   "cols": {
    "lenName": 16,
    "lenType": 16,
    "lenVar": 40
   },
   "kernels_config": {
    "python": {
     "delete_cmd_postfix": "",
     "delete_cmd_prefix": "del ",
     "library": "var_list.py",
     "varRefreshCmd": "print(var_dic_list())"
    },
    "r": {
     "delete_cmd_postfix": ") ",
     "delete_cmd_prefix": "rm(",
     "library": "var_list.r",
     "varRefreshCmd": "cat(var_dic_list()) "
    }
   },
   "types_to_exclude": [
    "module",
    "function",
    "builtin_function_or_method",
    "instance",
    "_Feature"
   ],
   "window_display": false
  }
 },
 "nbformat": 4,
 "nbformat_minor": 5
}
